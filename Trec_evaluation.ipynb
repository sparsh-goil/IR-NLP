{
 "cells": [
  {
   "cell_type": "code",
   "execution_count": 59,
   "metadata": {
    "colab": {
     "base_uri": "https://localhost:8080/",
     "height": 215
    },
    "colab_type": "code",
    "id": "-EW0POVQC6Rg",
    "outputId": "35a8c65d-0278-4dba-c7cd-78476e4cc024"
   },
   "outputs": [
    {
     "name": "stdout",
     "output_type": "stream",
     "text": [
      "--2020-04-29 05:45:12--  https://trec.nist.gov/trec_eval/trec_eval_latest.tar.gz\n",
      "Resolving trec.nist.gov (trec.nist.gov)... 129.6.13.51, 2610:20:6b01:4::36\n",
      "Connecting to trec.nist.gov (trec.nist.gov)|129.6.13.51|:443... connected.\n",
      "HTTP request sent, awaiting response... 200 OK\n",
      "Length: 181743 (177K) [application/x-gzip]\n",
      "Saving to: ‘trec_eval_latest.tar.gz’\n",
      "\n",
      "trec_eval_latest.ta 100%[===================>] 177.48K   142KB/s    in 1.2s    \n",
      "\n",
      "2020-04-29 05:45:15 (142 KB/s) - ‘trec_eval_latest.tar.gz’ saved [181743/181743]\n",
      "\n"
     ]
    }
   ],
   "source": [
    "!wget https://trec.nist.gov/trec_eval/trec_eval_latest.tar.gz"
   ]
  },
  {
   "cell_type": "code",
   "execution_count": 60,
   "metadata": {
    "colab": {},
    "colab_type": "code",
    "id": "ZGw70agKFa94"
   },
   "outputs": [],
   "source": [
    "!tar -xf trec_eval_latest.tar.gz"
   ]
  },
  {
   "cell_type": "code",
   "execution_count": 61,
   "metadata": {
    "colab": {},
    "colab_type": "code",
    "id": "HHDCQrsqFxz6"
   },
   "outputs": [],
   "source": [
    "!rm -r trec_eval_latest.tar.gz"
   ]
  },
  {
   "cell_type": "code",
   "execution_count": 7,
   "metadata": {},
   "outputs": [
    {
     "name": "stdout",
     "output_type": "stream",
     "text": [
      "/home/spaggy/Test codes/trec_eval-9.0.7\n"
     ]
    }
   ],
   "source": [
    "cd /home/spaggy/Test codes/trec_eval-9.0.7"
   ]
  },
  {
   "cell_type": "code",
   "execution_count": 64,
   "metadata": {
    "colab": {
     "base_uri": "https://localhost:8080/",
     "height": 55
    },
    "colab_type": "code",
    "id": "LxRtugIsIPBp",
    "outputId": "4ef8b40e-9acf-4760-b7a9-6f48998412a0"
   },
   "outputs": [
    {
     "name": "stdout",
     "output_type": "stream",
     "text": [
      "gcc -g -I.  -Wall -DVERSIONID=\\\"9.0.7\\\"  -o trec_eval trec_eval.c formats.c meas_init.c meas_acc.c meas_avg.c meas_print_single.c meas_print_final.c get_qrels.c get_trec_results.c get_prefs.c get_qrels_prefs.c get_qrels_jg.c form_res_rels.c form_res_rels_jg.c form_prefs_counts.c utility_pool.c get_zscores.c convert_zscores.c measures.c  m_map.c m_P.c m_num_q.c m_num_ret.c m_num_rel.c m_num_rel_ret.c m_gm_map.c m_Rprec.c m_recip_rank.c m_bpref.c m_iprec_at_recall.c m_recall.c m_Rprec_mult.c m_utility.c m_11pt_avg.c m_ndcg.c m_ndcg_cut.c m_Rndcg.c m_ndcg_rel.c m_binG.c m_G.c m_rel_P.c m_success.c m_infap.c m_map_cut.c m_gm_bpref.c m_runid.c m_relstring.c m_set_P.c m_set_recall.c m_set_rel_P.c m_set_map.c m_set_F.c m_num_nonrel_judged_ret.c m_prefs_num_prefs_poss.c m_prefs_num_prefs_ful.c m_prefs_num_prefs_ful_ret.c m_prefs_simp.c m_prefs_pair.c m_prefs_avgjg.c m_prefs_avgjg_Rnonrel.c m_prefs_simp_ret.c m_prefs_pair_ret.c m_prefs_avgjg_ret.c m_prefs_avgjg_Rnonrel_ret.c m_prefs_simp_imp.c m_prefs_pair_imp.c m_prefs_avgjg_imp.c m_map_avgjg.c m_Rprec_mult_avgjg.c m_P_avgjg.c m_yaap.c -lm\r\n"
     ]
    }
   ],
   "source": [
    "!make"
   ]
  },
  {
   "cell_type": "markdown",
   "metadata": {},
   "source": [
    "### Gold standard test case"
   ]
  },
  {
   "cell_type": "code",
   "execution_count": null,
   "metadata": {},
   "outputs": [],
   "source": [
    "with open('/home/spaggy/Documents/NLP Project 2020/AILA-dataset/test-data-rel-judgment/goldstd_priorcases.txt' ,'r') as f :\n",
    "  data_gt = f.readlines()\n",
    "with open('../testgt1.txt','w') as ff:\n",
    "  for i in data_gt :\n",
    "    ff.write(i)\n",
    "f.close()"
   ]
  },
  {
   "cell_type": "markdown",
   "metadata": {},
   "source": [
    "### Doc2Vec using Law2Vec100D"
   ]
  },
  {
   "cell_type": "code",
   "execution_count": 16,
   "metadata": {},
   "outputs": [],
   "source": [
    "with open(\"/home/spaggy/Documents/NLP Project 2020/AILA-dataset/Evaluation_061/evalutaion_file_law2vec100d_run1.txt\" ,'r') as f :\n",
    "  data_gt = f.readlines()\n",
    "with open('../testpred_law2vec100d_run1.txt','w') as ff:\n",
    "  for i in data_gt :\n",
    "    ff.write(' '.join(i.split())+' CAT\\n')\n",
    "with open(\"/home/spaggy/Documents/NLP Project 2020/AILA-dataset/Evaluation_061/evalutaion_file_law2vec100d_run2.txt\" ,'r') as f :\n",
    "  data_gt = f.readlines()\n",
    "with open('../testpred_law2vec100d_run2.txt','w') as ff:\n",
    "  for i in data_gt :\n",
    "    ff.write(' '.join(i.split())+' CAT\\n')"
   ]
  },
  {
   "cell_type": "code",
   "execution_count": 17,
   "metadata": {},
   "outputs": [
    {
     "name": "stdout",
     "output_type": "stream",
     "text": [
      "map                   \tall\t0.0708\r\n",
      "P_5                   \tall\t0.0650\r\n",
      "P_10                  \tall\t0.0475\r\n"
     ]
    }
   ],
   "source": [
    "#Run1\n",
    "#Doc2Vec law2vec100 dim with training over queries and cases \n",
    "! ./trec_eval -m map -m P.5,10 ../testgt1.txt ../testpred_law2vec100d_run1.txt "
   ]
  },
  {
   "cell_type": "code",
   "execution_count": 15,
   "metadata": {},
   "outputs": [
    {
     "name": "stdout",
     "output_type": "stream",
     "text": [
      "map                   \tall\t0.1144\r\n",
      "P_5                   \tall\t0.0600\r\n",
      "P_10                  \tall\t0.0550\r\n"
     ]
    }
   ],
   "source": [
    "#Run2\n",
    "#Doc2Vec law2vec100 dim with training over train queries and cases\n",
    "! ./trec_eval -m map -m P.5,10 ../testgt1.txt ../testpred_law2vec100d_run2.txt"
   ]
  },
  {
   "cell_type": "markdown",
   "metadata": {},
   "source": [
    "### Doc2Vec using Law2Vec200D"
   ]
  },
  {
   "cell_type": "code",
   "execution_count": 33,
   "metadata": {},
   "outputs": [],
   "source": [
    "with open(\"/home/spaggy/Documents/NLP Project 2020/AILA-dataset/Evaluation_061/evalutaion_file_law2vec200d_1may_2.txt\" ,'r') as f :\n",
    "  data_gt = f.readlines()\n",
    "with open('../testpred200d_law2vec200d_1may_2.txt','w') as ff:\n",
    "  for i in data_gt :\n",
    "    ff.write(' '.join(i.split())+' CAT\\n')\n",
    "with open(\"/home/spaggy/Documents/NLP Project 2020/AILA-dataset/Evaluation_061/evalutaion_file_law2vec200d_1may_3.txt\" ,'r') as f :\n",
    "  data_gt = f.readlines()\n",
    "with open('../testpred200d_law2vec100d_1may_3.txt','w') as ff:\n",
    "  for i in data_gt :\n",
    "    ff.write(' '.join(i.split())+' CAT\\n')\n"
   ]
  },
  {
   "cell_type": "code",
   "execution_count": 34,
   "metadata": {},
   "outputs": [
    {
     "name": "stdout",
     "output_type": "stream",
     "text": [
      "map                   \tall\t0.0764\r\n",
      "P_5                   \tall\t0.0700\r\n",
      "P_10                  \tall\t0.0500\r\n"
     ]
    }
   ],
   "source": [
    "# Time-5:04 PM 1 May 2020\n",
    "#law2vec200dim with training over all queries and cases\n",
    "! ./trec_eval -m map -m P.5,10 ../testgt1.txt ../testpred200d_law2vec200d_1may_2.txt "
   ]
  },
  {
   "cell_type": "code",
   "execution_count": 31,
   "metadata": {},
   "outputs": [
    {
     "name": "stdout",
     "output_type": "stream",
     "text": [
      "map                   \tall\t0.1182\r\n",
      "P_5                   \tall\t0.0800\r\n",
      "P_10                  \tall\t0.0525\r\n"
     ]
    }
   ],
   "source": [
    "# Time-5:24 PM 1 May 2020\n",
    "#law2vec200dim with training over train queries(10) and cases\n",
    "! ./trec_eval -m map -m P.5,10 ../testgt1.txt ../testpred200d_law2vec100d_1may_3.txt "
   ]
  },
  {
   "cell_type": "markdown",
   "metadata": {},
   "source": [
    "### Doc2Vec using DMPV(No-pre-trained embeddings)"
   ]
  },
  {
   "cell_type": "code",
   "execution_count": 24,
   "metadata": {},
   "outputs": [],
   "source": [
    "with open(\"/home/spaggy/Documents/NLP Project 2020/AILA-dataset/Evaluation_061/evalutaion_file_1may_4.txt\" ,'r') as f :\n",
    "  data_gt = f.readlines()\n",
    "with open('../testpred_1may_4.txt','w') as ff:\n",
    "  for i in data_gt :\n",
    "    ff.write(' '.join(i.split())+' CAT\\n')"
   ]
  },
  {
   "cell_type": "code",
   "execution_count": 23,
   "metadata": {},
   "outputs": [
    {
     "name": "stdout",
     "output_type": "stream",
     "text": [
      "map                   \tall\t0.0391\r\n",
      "P_5                   \tall\t0.0300\r\n",
      "P_10                  \tall\t0.0250\r\n"
     ]
    }
   ],
   "source": [
    "# Time-7:55 PM 1 May 2020\n",
    "#Doc2Vec DMPV with training over train queries and cases\n",
    "! ./trec_eval -m map -m P.5,10 ../testgt1.txt ../testpred_1may_4.txt "
   ]
  },
  {
   "cell_type": "markdown",
   "metadata": {},
   "source": [
    "### Doc2Vec using DBOW "
   ]
  },
  {
   "cell_type": "code",
   "execution_count": 35,
   "metadata": {},
   "outputs": [],
   "source": [
    "with open(\"/home/spaggy/Documents/NLP Project 2020/AILA-dataset/Evaluation_061/evalutaion_file_dbow_1may_1.txt\" ,'r') as f :\n",
    "  data_gt = f.readlines()\n",
    "with open('../testpred_1may_4.txt','w') as ff:\n",
    "  for i in data_gt :\n",
    "    ff.write(' '.join(i.split())+' CAT\\n')"
   ]
  },
  {
   "cell_type": "code",
   "execution_count": 25,
   "metadata": {},
   "outputs": [
    {
     "name": "stdout",
     "output_type": "stream",
     "text": [
      "map                   \tall\t0.1206\r\n",
      "P_5                   \tall\t0.0600\r\n",
      "P_10                  \tall\t0.0450\r\n"
     ]
    }
   ],
   "source": [
    "# Time-9:5 PM 1 May 2020\n",
    "#Doc2Vec DBOW with training over train queries(10) and cases\n",
    "! ./trec_eval -m map -m P.5,10 ../testgt1.txt ../testpred_dbow_1may_1.txt "
   ]
  }
 ],
 "metadata": {
  "colab": {
   "collapsed_sections": [],
   "name": "Trec_eval.ipynb",
   "provenance": []
  },
  "kernelspec": {
   "display_name": "Python 3",
   "language": "python",
   "name": "python3"
  },
  "language_info": {
   "codemirror_mode": {
    "name": "ipython",
    "version": 2
   },
   "file_extension": ".py",
   "mimetype": "text/x-python",
   "name": "python",
   "nbconvert_exporter": "python",
   "pygments_lexer": "ipython2",
   "version": "2.7.15+"
  }
 },
 "nbformat": 4,
 "nbformat_minor": 1
}
